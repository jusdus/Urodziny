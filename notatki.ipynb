{
 "cells": [
  {
   "cell_type": "code",
   "execution_count": 2,
   "metadata": {
    "collapsed": true
   },
   "outputs": [
    {
     "data": {
      "text/plain": [
       "1"
      ]
     },
     "execution_count": 2,
     "metadata": {},
     "output_type": "execute_result"
    }
   ],
   "source": [
    "import datetime\n",
    "\n",
    "slownik = {\"Justyna\": datetime.date(year=1987, month=6, day=17),\n",
    "           \"Filip\": datetime.date(year=1987, month=3, day=26),\n",
    "           \"Stasio\": datetime.date(year=2012, month=5, day=24),\n",
    "           \"Niunia\": datetime.date(year=2016, month=2, day=25)}\n",
    "\n",
    "def juz_bylo(data):\n",
    "    today = datetime.date.today()\n",
    "    rok = today.year\n",
    "    data = data.replace(year=rok)\n",
    "    if today > data:\n",
    "        return 0\n",
    "    return -1\n",
    "\n",
    "\n",
    "def ile_mam_lat(name):\n",
    "    today = datetime.date.today()\n",
    "    bd = slownik[name]\n",
    "    rok = today.year\n",
    "    rok_ur = bd.year\n",
    "    return rok-rok_ur+juz_bylo(bd)\n",
    "\n",
    "ile_mam_lat(\"Niunia\")"
   ]
  },
  {
   "cell_type": "code",
   "execution_count": 7,
   "metadata": {},
   "outputs": [
    {
     "data": {
      "text/plain": [
       "'3'"
      ]
     },
     "execution_count": 7,
     "metadata": {},
     "output_type": "execute_result"
    }
   ],
   "source": [
    "x = 6576876763\n",
    "str(x)[-1::]"
   ]
  },
  {
   "cell_type": "code",
   "execution_count": 2,
   "metadata": {},
   "outputs": [
    {
     "data": {
      "text/plain": [
       "1"
      ]
     },
     "execution_count": 2,
     "metadata": {},
     "output_type": "execute_result"
    }
   ],
   "source": [
    "import datetime\n",
    "x = datetime.date(year=2018, month=2, day=26)\n",
    "x.isoweekday()"
   ]
  },
  {
   "cell_type": "code",
   "execution_count": null,
   "metadata": {},
   "outputs": [],
   "source": [
    ""
   ]
  }
 ],
 "metadata": {
  "kernelspec": {
   "display_name": "Python 3",
   "language": "python",
   "name": "python3"
  },
  "language_info": {
   "codemirror_mode": {
    "name": "ipython",
    "version": 3.0
   },
   "file_extension": ".py",
   "mimetype": "text/x-python",
   "name": "python",
   "nbconvert_exporter": "python",
   "pygments_lexer": "ipython3",
   "version": "3.6.0"
  }
 },
 "nbformat": 4,
 "nbformat_minor": 0
}